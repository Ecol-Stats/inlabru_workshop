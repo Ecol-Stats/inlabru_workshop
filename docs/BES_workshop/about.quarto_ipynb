{
  "cells": [
    {
      "cell_type": "markdown",
      "metadata": {},
      "source": [
        "---\n",
        "title: \"Slides\"\n",
        "---\n",
        "\n",
        "\n",
        "\n",
        "\n",
        "<iframe class=\"slide-deck\" src=\"slides/slides_1.html\">\n",
        "\n",
        "</iframe>\n",
        "\n",
        "\n",
        "\n",
        "\n",
        "\n",
        "```{css}\n",
        ".slide-wrapper {\n",
        "  position: relative;\n",
        "  display: inline-block;\n",
        "}\n",
        "\n",
        ".slide-wrapper:hover::after {\n",
        "  content: \"Click to open full screen\";\n",
        "  position: absolute;\n",
        "  top: 50%;\n",
        "  left: 50%;\n",
        "  transform: translate(-50%, -50%);\n",
        "  background: rgba(0,0,0,0.8);\n",
        "  color: white;\n",
        "  padding: 10px 15px;\n",
        "  border-radius: 5px;\n",
        "  cursor: pointer;\n",
        "}\n",
        "```\n",
        "\n",
        "```{html}\n",
        "<a href=\"slides/slides_1.html\" target=\"_blank\" class=\"slide-wrapper\">\n",
        "  <iframe class=\"slide-deck\" src=\"slides/slides_1.html\"></iframe>\n",
        "</a>\n",
        "```"
      ],
      "id": "db031e5b"
    }
  ],
  "metadata": {
    "kernelspec": {
      "display_name": "Python 3",
      "language": "python",
      "name": "python3"
    }
  },
  "nbformat": 4,
  "nbformat_minor": 5
}